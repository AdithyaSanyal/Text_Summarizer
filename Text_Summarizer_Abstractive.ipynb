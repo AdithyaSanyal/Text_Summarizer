{
 "cells": [
  {
   "cell_type": "code",
   "execution_count": 1,
   "metadata": {},
   "outputs": [],
   "source": [
    "import torch\n",
    "import json \n",
    "from transformers import T5Tokenizer, T5ForConditionalGeneration, T5Config"
   ]
  },
  {
   "cell_type": "code",
   "execution_count": 4,
   "metadata": {},
   "outputs": [
    {
     "name": "stdout",
     "output_type": "stream",
     "text": [
      "original text preprocessed: \n",
      " BASEL, Switzerland (AP), Roger Federer advanced to the 14th Swiss Indoorsfinal of his career by beating seventh-seeded Daniil Medvedev 6-1, 6-4 onSaturday. Seeking a ninth title at his hometown event, and a 99th overall,Federer will play 93th-ranked Marius Copil on Sunday. Federer dominated the20th-ranked Medvedev and had his first match-point chance to break serve again at 5-1. He then dropped his serve to love, and let another match point slip in Medvedev's next service game by netting a backhand. He clinched on his fourth chance when Medvedev netted from the baseline. Copil upset expectations of a Federer final against Alexander Zverev in a 6-3, 6-7 (6), 6-4 win over the fifth-ranked German in the earlier semifinal. The Romanian aims for a first title after arriving at Basel without a career win over a top-10 opponent. Copil has two after also beating No. 6 Marin Cilic in the second round. Copil fired 26 aces past Zverevand never dropped serve, clinching after 2 1/2 hours with a forehand volley winner to break Zverev for the second time in the semifinal. He came through two rounds of qualifying last weekend to reach the Basel main draw, including beating Zverev's older brother, Mischa. Federer had an easier time than in his only previous match against Medvedev, a three-setter at Shanghai two weeks ago.'\n",
      "\n",
      "\n",
      "Summarized text: \n",
      " Roger Federer beats Daniil Medvedev 6-1, 6-4 in the 14th Swiss Indoorsfinal of his career. he will play 93th-ranked Marius Copil on Sunday in his hometown event on saturday.\n"
     ]
    }
   ],
   "source": [
    "model = T5ForConditionalGeneration.from_pretrained('t5-small')\n",
    "tokenizer = T5Tokenizer.from_pretrained('t5-small')\n",
    "device = torch.device('cpu')\n",
    "\n",
    "text =\"\"\"\n",
    "BASEL, Switzerland (AP), Roger Federer advanced to the 14th Swiss Indoors\n",
    "final of his career by beating seventh-seeded Daniil Medvedev 6-1, 6-4 on\n",
    "Saturday. Seeking a ninth title at his hometown event, and a 99th overall,\n",
    "Federer will play 93th-ranked Marius Copil on Sunday. Federer dominated the\n",
    "20th-ranked Medvedev and had his first match-point chance to break serve \n",
    "again at 5-1. He then dropped his serve to love, and let another match \n",
    "point slip in Medvedev's next service game by netting a backhand. \n",
    "He clinched on his fourth chance when Medvedev netted from the baseline. \n",
    "Copil upset expectations of a Federer final against Alexander Zverev in \n",
    "a 6-3, 6-7 (6), 6-4 win over the fifth-ranked German in the earlier \n",
    "semifinal. The Romanian aims for a first title after arriving at Basel \n",
    "without a career win over a top-10 opponent. Copil has two after also beat\n",
    "ing No. 6 Marin Cilic in the second round. Copil fired 26 aces past Zverev\n",
    "and never dropped serve, clinching after 2 1/2 hours with a forehand \n",
    "volley winner to break Zverev for the second time in the semifinal. \n",
    "He came through two rounds of qualifying last weekend to reach the Basel \n",
    "main draw, including beating Zverev's older brother, Mischa. Federer had \n",
    "an easier time than in his only previous match against Medvedev, a \n",
    "three-setter at Shanghai two weeks ago.'\"\"\"\n",
    "\n",
    "\n",
    "preprocess_text = text.strip().replace(\"\\n\",\"\")\n",
    "t5_prepared_Text = \"summarize: \"+preprocess_text\n",
    "print (\"original text preprocessed: \\n\", preprocess_text)\n",
    "\n",
    "tokenized_text = tokenizer.encode(t5_prepared_Text, return_tensors=\"pt\").to(device)\n",
    "\n",
    "\n",
    "# summmarize \n",
    "summary_ids = model.generate(tokenized_text,\n",
    "                                    num_beams=4,\n",
    "                                    no_repeat_ngram_size=2,\n",
    "                                    min_length=30,\n",
    "                                    max_length=100,\n",
    "                                    early_stopping=True)\n",
    "\n",
    "output = tokenizer.decode(summary_ids[0], skip_special_tokens=True)\n",
    "\n",
    "print (\"\\n\\nSummarized text: \\n\",output)"
   ]
  },
  {
   "cell_type": "code",
   "execution_count": null,
   "metadata": {},
   "outputs": [],
   "source": []
  }
 ],
 "metadata": {
  "kernelspec": {
   "display_name": "Python 3",
   "language": "python",
   "name": "python3"
  },
  "language_info": {
   "codemirror_mode": {
    "name": "ipython",
    "version": 3
   },
   "file_extension": ".py",
   "mimetype": "text/x-python",
   "name": "python",
   "nbconvert_exporter": "python",
   "pygments_lexer": "ipython3",
   "version": "3.8.5"
  }
 },
 "nbformat": 4,
 "nbformat_minor": 4
}
